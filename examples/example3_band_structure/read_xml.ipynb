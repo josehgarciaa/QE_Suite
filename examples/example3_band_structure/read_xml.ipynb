{
 "cells": [
  {
   "cell_type": "code",
   "execution_count": 19,
   "id": "cb806ad7",
   "metadata": {},
   "outputs": [],
   "source": [
    "import qe_suite.format as f\n",
    "import numpy as np\n",
    "import xml.etree.ElementTree as ET\n",
    "\n",
    "tree = ET.parse('qe_suite/qe_suite.xml')\n",
    "root = tree.getroot()"
   ]
  },
  {
   "cell_type": "code",
   "execution_count": 20,
   "id": "3703fc90",
   "metadata": {},
   "outputs": [
    {
     "name": "stdout",
     "output_type": "stream",
     "text": [
      "general_info {}\n",
      "parallel_info {}\n",
      "input {}\n",
      "output {}\n",
      "exit_status {}\n",
      "timing_info {}\n",
      "closed {'DATE': '15 Mar 2022', 'TIME': '13:53:17'}\n"
     ]
    }
   ],
   "source": [
    "for child in root:\n",
    "    print(child.tag, child.attrib)"
   ]
  },
  {
   "cell_type": "code",
   "execution_count": 21,
   "id": "b6e26e1c",
   "metadata": {},
   "outputs": [
    {
     "name": "stdout",
     "output_type": "stream",
     "text": [
      "-1.0212545473028354\n"
     ]
    }
   ],
   "source": [
    "bs   = root.find(\"output/band_structure\");\n",
    "Ry2eV= 13.605684958731;\n",
    "EF   = float( root.find(\"output/band_structure/fermi_energy\").text )*Ry2eV;\n",
    "print(EF)\n"
   ]
  },
  {
   "cell_type": "code",
   "execution_count": 22,
   "id": "275e8aaa",
   "metadata": {},
   "outputs": [],
   "source": [
    "kpoints= [(x.find(\"k_point\").text).split(\" \") for x in bs.iter(\"ks_energies\")]\n",
    "eigvals= [f.remove_empty((eigv.find(\"eigenvalues\").text.replace(\"\\n\",\"\")).split(\" \")) for eigv in bs.iter(\"ks_energies\")]\n",
    "eigvals= np.array(eigvals, dtype=float).T*Ry2eV - EF;\n",
    "kpoints= np.array(kpoints, dtype=float);\n",
    "kpath =  np.insert( np.cumsum( np.linalg.norm( np.diff( kpoints, axis=0 ), axis=1 ) ),0,0)"
   ]
  },
  {
   "cell_type": "code",
   "execution_count": 23,
   "id": "f8a9ce1c",
   "metadata": {},
   "outputs": [
    {
     "data": {
      "image/png": "[encoded data removed]",
      "text/plain": [
       "<Figure size 432x288 with 1 Axes>"
      ]
     },
     "metadata": {
      "needs_background": "light"
     },
     "output_type": "display_data"
    }
   ],
   "source": [
    "import matplotlib.pyplot as plt\n",
    "for eig in eigvals:\n",
    "    plt.plot(kpath,eig)\n",
    "#plt.ylim(-3,3)"
   ]
  },
  {
   "cell_type": "code",
   "execution_count": 9,
   "id": "2628a3c0",
   "metadata": {},
   "outputs": [
    {
     "data": {
      "text/plain": [
       "-1.0212545473028354"
      ]
     },
     "execution_count": 9,
     "metadata": {},
     "output_type": "execute_result"
    }
   ],
   "source": [
    "EF"
   ]
  },
  {
   "cell_type": "code",
   "execution_count": 10,
   "id": "a0790d13",
   "metadata": {},
   "outputs": [
    {
     "ename": "NameError",
     "evalue": "name 'band_structure' is not defined",
     "output_type": "error",
     "traceback": [
      "\u001b[0;31m---------------------------------------------------------------------------\u001b[0m",
      "\u001b[0;31mNameError\u001b[0m                                 Traceback (most recent call last)",
      "\u001b[0;32m/tmp/ipykernel_1843516/3258334325.py\u001b[0m in \u001b[0;36m<module>\u001b[0;34m\u001b[0m\n\u001b[0;32m----> 1\u001b[0;31m \u001b[0meigvals\u001b[0m \u001b[0;34m=\u001b[0m \u001b[0;34m[\u001b[0m \u001b[0mf\u001b[0m\u001b[0;34m.\u001b[0m\u001b[0mremove_empty\u001b[0m\u001b[0;34m(\u001b[0m\u001b[0meigval\u001b[0m\u001b[0;34m.\u001b[0m\u001b[0mtext\u001b[0m\u001b[0;34m.\u001b[0m\u001b[0mreplace\u001b[0m\u001b[0;34m(\u001b[0m\u001b[0;34m\"\\n\"\u001b[0m\u001b[0;34m,\u001b[0m\u001b[0;34m\"\"\u001b[0m\u001b[0;34m)\u001b[0m\u001b[0;34m.\u001b[0m\u001b[0msplit\u001b[0m\u001b[0;34m(\u001b[0m\u001b[0;34m\" \"\u001b[0m\u001b[0;34m)\u001b[0m\u001b[0;34m)\u001b[0m \u001b[0;32mfor\u001b[0m \u001b[0meigval\u001b[0m \u001b[0;32min\u001b[0m \u001b[0mband_structure\u001b[0m\u001b[0;34m.\u001b[0m\u001b[0miter\u001b[0m\u001b[0;34m(\u001b[0m\u001b[0;34m\"eigenvalues\"\u001b[0m\u001b[0;34m)\u001b[0m \u001b[0;34m]\u001b[0m\u001b[0;34m\u001b[0m\u001b[0;34m\u001b[0m\u001b[0m\n\u001b[0m\u001b[1;32m      2\u001b[0m \u001b[0meigvals\u001b[0m \u001b[0;34m=\u001b[0m \u001b[0mnp\u001b[0m\u001b[0;34m.\u001b[0m\u001b[0marray\u001b[0m\u001b[0;34m(\u001b[0m\u001b[0meigvals\u001b[0m\u001b[0;34m,\u001b[0m \u001b[0mdtype\u001b[0m\u001b[0;34m=\u001b[0m\u001b[0mfloat\u001b[0m \u001b[0;34m)\u001b[0m\u001b[0;34m;\u001b[0m\u001b[0;34m\u001b[0m\u001b[0;34m\u001b[0m\u001b[0m\n\u001b[1;32m      3\u001b[0m \u001b[0mprint\u001b[0m\u001b[0;34m(\u001b[0m\u001b[0meigvals\u001b[0m\u001b[0;34m.\u001b[0m\u001b[0mshape\u001b[0m\u001b[0;34m)\u001b[0m\u001b[0;34m\u001b[0m\u001b[0;34m\u001b[0m\u001b[0m\n\u001b[1;32m      4\u001b[0m \u001b[0;31m#eigenvals = [f.remove_double(\" \",eigval.text).split(\"\\n\") for eigval in band_structure.iter(\"eigenvalues\") ]\u001b[0m\u001b[0;34m\u001b[0m\u001b[0;34m\u001b[0m\u001b[0m\n\u001b[1;32m      5\u001b[0m \u001b[0;31m#eigenvals = [f.remove_empty(eigenval) for eigval in band_structure.iter(\"eigenvalues\") ]\u001b[0m\u001b[0;34m\u001b[0m\u001b[0;34m\u001b[0m\u001b[0m\n",
      "\u001b[0;31mNameError\u001b[0m: name 'band_structure' is not defined"
     ]
    }
   ],
   "source": [
    "\n",
    "eigvals = [ f.remove_empty(eigval.text.replace(\"\\n\",\"\").split(\" \")) for eigval in band_structure.iter(\"eigenvalues\") ]\n",
    "eigvals = np.array(eigvals, dtype=float );\n",
    "print(eigvals.shape)\n",
    "#eigenvals = [f.remove_double(\" \",eigval.text).split(\"\\n\") for eigval in band_structure.iter(\"eigenvalues\") ]\n",
    "#eigenvals = [f.remove_empty(eigenval) for eigval in band_structure.iter(\"eigenvalues\") ]\n",
    "\n",
    "#print( eigenvals  )\n",
    " #   #print( f.remove_double(\"\\n\",f.remove_double(\" \",eigval.text) ) )"
   ]
  },
  {
   "cell_type": "code",
   "execution_count": 11,
   "id": "087b1de6",
   "metadata": {},
   "outputs": [
    {
     "ename": "NameError",
     "evalue": "name 'kpts' is not defined",
     "output_type": "error",
     "traceback": [
      "\u001b[0;31m---------------------------------------------------------------------------\u001b[0m",
      "\u001b[0;31mNameError\u001b[0m                                 Traceback (most recent call last)",
      "\u001b[0;32m/tmp/ipykernel_1843516/923894543.py\u001b[0m in \u001b[0;36m<module>\u001b[0;34m\u001b[0m\n\u001b[0;32m----> 1\u001b[0;31m \u001b[0mkpts\u001b[0m\u001b[0;34m.\u001b[0m\u001b[0mshape\u001b[0m\u001b[0;34m\u001b[0m\u001b[0;34m\u001b[0m\u001b[0m\n\u001b[0m",
      "\u001b[0;31mNameError\u001b[0m: name 'kpts' is not defined"
     ]
    }
   ],
   "source": [
    "kpts.shape"
   ]
  },
  {
   "cell_type": "code",
   "execution_count": null,
   "id": "2f4774e5",
   "metadata": {},
   "outputs": [],
   "source": []
  }
 ],
 "metadata": {
  "kernelspec": {
   "display_name": "Python 3",
   "language": "python",
   "name": "python3"
  },
  "language_info": {
   "codemirror_mode": {
    "name": "ipython",
    "version": 3
   },
   "file_extension": ".py",
   "mimetype": "text/x-python",
   "name": "python",
   "nbconvert_exporter": "python",
   "pygments_lexer": "ipython3",
   "version": "3.9.7"
  }
 },
 "nbformat": 4,
 "nbformat_minor": 5
}

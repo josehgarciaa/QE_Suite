{
 "cells": [
  {
   "cell_type": "code",
   "execution_count": 218,
   "id": "842d06f5",
   "metadata": {},
   "outputs": [],
   "source": [
    "import qe_suite.format as f\n",
    "import numpy as np\n",
    "import xml.etree.ElementTree as ET\n",
    "\n",
    "tree = ET.parse('../qesuite_out/pwscf.xml')\n",
    "root = tree.getroot()"
   ]
  },
  {
   "cell_type": "code",
   "execution_count": 219,
   "id": "983ab2a0",
   "metadata": {},
   "outputs": [
    {
     "name": "stdout",
     "output_type": "stream",
     "text": [
      "general_info {}\n",
      "parallel_info {}\n",
      "input {}\n",
      "output {}\n",
      "exit_status {}\n",
      "timing_info {}\n",
      "closed {'DATE': '20 Feb 2022', 'TIME': '10:49:36'}\n"
     ]
    }
   ],
   "source": [
    "for child in root:\n",
    "    print(child.tag, child.attrib)"
   ]
  },
  {
   "cell_type": "code",
   "execution_count": 236,
   "id": "0c1eeaba",
   "metadata": {},
   "outputs": [
    {
     "name": "stdout",
     "output_type": "stream",
     "text": [
      "-2.352151836584574\n"
     ]
    }
   ],
   "source": [
    "bs   = root.find(\"output/band_structure\");\n",
    "Ry2eV= 13.605684958731;\n",
    "EF   = float( root.find(\"output/band_structure/fermi_energy\").text )*Ry2eV;\n",
    "print(EF)\n"
   ]
  },
  {
   "cell_type": "code",
   "execution_count": 237,
   "id": "cbdc5720",
   "metadata": {},
   "outputs": [],
   "source": [
    "kpoints= [(x.find(\"k_point\").text).split(\" \") for x in bs.iter(\"ks_energies\")]\n",
    "eigvals= [f.remove_empty((eigv.find(\"eigenvalues\").text.replace(\"\\n\",\"\")).split(\" \")) for eigv in bs.iter(\"ks_energies\")]\n",
    "eigvals= np.array(eigvals, dtype=float).T*Ry2eV - EF;\n",
    "kpoints= np.array(kpoints, dtype=float);\n",
    "kpath =  np.insert( np.cumsum( np.linalg.norm( np.diff( kpoints, axis=0 ), axis=1 ) ),0,0)"
   ]
  },
  {
   "cell_type": "code",
   "execution_count": 238,
   "id": "54ffea1f",
   "metadata": {},
   "outputs": [
    {
     "data": {
      "text/plain": [
       "(-8.0, 2.0)"
      ]
     },
     "execution_count": 238,
     "metadata": {},
     "output_type": "execute_result"
    },
    {
     "data": {
      "image/png": "[encoded data removed]",
      "text/plain": [
       "<Figure size 432x288 with 1 Axes>"
      ]
     },
     "metadata": {
      "needs_background": "light"
     },
     "output_type": "display_data"
    }
   ],
   "source": [
    "import matplotlib.pyplot as plt\n",
    "for eig in eigvals:\n",
    "    plt.plot(kpath,eig)\n",
    "plt.ylim(-8,2)"
   ]
  },
  {
   "cell_type": "code",
   "execution_count": 233,
   "id": "550dea77",
   "metadata": {},
   "outputs": [
    {
     "data": {
      "text/plain": [
       "-2.352151836584574"
      ]
     },
     "execution_count": 233,
     "metadata": {},
     "output_type": "execute_result"
    }
   ],
   "source": [
    "EF"
   ]
  },
  {
   "cell_type": "code",
   "execution_count": 234,
   "id": "3ed2fa3d",
   "metadata": {},
   "outputs": [
    {
     "name": "stdout",
     "output_type": "stream",
     "text": [
      "(80, 36)\n"
     ]
    }
   ],
   "source": [
    "\n",
    "eigvals = [ f.remove_empty(eigval.text.replace(\"\\n\",\"\").split(\" \")) for eigval in band_structure.iter(\"eigenvalues\") ]\n",
    "eigvals = np.array(eigvals, dtype=float );\n",
    "print(eigvals.shape)\n",
    "#eigenvals = [f.remove_double(\" \",eigval.text).split(\"\\n\") for eigval in band_structure.iter(\"eigenvalues\") ]\n",
    "#eigenvals = [f.remove_empty(eigenval) for eigval in band_structure.iter(\"eigenvalues\") ]\n",
    "\n",
    "#print( eigenvals  )\n",
    " #   #print( f.remove_double(\"\\n\",f.remove_double(\" \",eigval.text) ) )"
   ]
  },
  {
   "cell_type": "code",
   "execution_count": 235,
   "id": "0c383c6b",
   "metadata": {},
   "outputs": [
    {
     "data": {
      "text/plain": [
       "(80, 9)"
      ]
     },
     "execution_count": 235,
     "metadata": {},
     "output_type": "execute_result"
    }
   ],
   "source": [
    "kpts.shape"
   ]
  },
  {
   "cell_type": "code",
   "execution_count": null,
   "id": "5483dbb7",
   "metadata": {},
   "outputs": [],
   "source": []
  }
 ],
 "metadata": {
  "kernelspec": {
   "display_name": "Python 3 (ipykernel)",
   "language": "python",
   "name": "python3"
  },
  "language_info": {
   "codemirror_mode": {
    "name": "ipython",
    "version": 3
   },
   "file_extension": ".py",
   "mimetype": "text/x-python",
   "name": "python",
   "nbconvert_exporter": "python",
   "pygments_lexer": "ipython3",
   "version": "3.8.12"
  }
 },
 "nbformat": 4,
 "nbformat_minor": 5
}

{
 "cells": [
  {
   "cell_type": "code",
   "execution_count": 46,
   "id": "eafd80e0",
   "metadata": {},
   "outputs": [],
   "source": [
    "import qe_suite.format as f\n",
    "import numpy as np\n",
    "import xml.etree.ElementTree as ET\n",
    "\n",
    "tree = ET.parse('../qesuite_out/pwscf.xml')\n",
    "root = tree.getroot()"
   ]
  },
  {
   "cell_type": "code",
   "execution_count": 4,
   "id": "c5497190",
   "metadata": {},
   "outputs": [
    {
     "name": "stdout",
     "output_type": "stream",
     "text": [
      "general_info {}\n",
      "parallel_info {}\n",
      "input {}\n",
      "output {}\n",
      "exit_status {}\n",
      "timing_info {}\n",
      "closed {'DATE': '19 Feb 2022', 'TIME': '16:16:59'}\n"
     ]
    }
   ],
   "source": [
    "for child in root:\n",
    "    print(child.tag, child.attrib)"
   ]
  },
  {
   "cell_type": "code",
   "execution_count": 133,
   "id": "8b7b1df7",
   "metadata": {},
   "outputs": [],
   "source": [
    "bs= root.find(\"output/band_structure\");\n",
    "EF= float( root.find(\"output/band_structure/fermi_energy\").text );\n",
    "#kpts= np.array([ np.array( kp.text.split(\" \"), dtype=float ) for kp in bs.iter(\"k_point\") ])\n"
   ]
  },
  {
   "cell_type": "code",
   "execution_count": 136,
   "id": "092c94af",
   "metadata": {},
   "outputs": [
    {
     "data": {
      "text/plain": [
       "array([['\\n', '', '', '', '', '', '', '', ''],\n",
       "       ['\\n', '', '', '', '', '', '', '', ''],\n",
       "       ['\\n', '', '', '', '', '', '', '', ''],\n",
       "       ['\\n', '', '', '', '', '', '', '', ''],\n",
       "       ['\\n', '', '', '', '', '', '', '', ''],\n",
       "       ['\\n', '', '', '', '', '', '', '', ''],\n",
       "       ['\\n', '', '', '', '', '', '', '', ''],\n",
       "       ['\\n', '', '', '', '', '', '', '', ''],\n",
       "       ['\\n', '', '', '', '', '', '', '', ''],\n",
       "       ['\\n', '', '', '', '', '', '', '', ''],\n",
       "       ['\\n', '', '', '', '', '', '', '', ''],\n",
       "       ['\\n', '', '', '', '', '', '', '', ''],\n",
       "       ['\\n', '', '', '', '', '', '', '', ''],\n",
       "       ['\\n', '', '', '', '', '', '', '', ''],\n",
       "       ['\\n', '', '', '', '', '', '', '', ''],\n",
       "       ['\\n', '', '', '', '', '', '', '', ''],\n",
       "       ['\\n', '', '', '', '', '', '', '', ''],\n",
       "       ['\\n', '', '', '', '', '', '', '', ''],\n",
       "       ['\\n', '', '', '', '', '', '', '', ''],\n",
       "       ['\\n', '', '', '', '', '', '', '', ''],\n",
       "       ['\\n', '', '', '', '', '', '', '', ''],\n",
       "       ['\\n', '', '', '', '', '', '', '', ''],\n",
       "       ['\\n', '', '', '', '', '', '', '', ''],\n",
       "       ['\\n', '', '', '', '', '', '', '', ''],\n",
       "       ['\\n', '', '', '', '', '', '', '', ''],\n",
       "       ['\\n', '', '', '', '', '', '', '', ''],\n",
       "       ['\\n', '', '', '', '', '', '', '', ''],\n",
       "       ['\\n', '', '', '', '', '', '', '', ''],\n",
       "       ['\\n', '', '', '', '', '', '', '', ''],\n",
       "       ['\\n', '', '', '', '', '', '', '', ''],\n",
       "       ['\\n', '', '', '', '', '', '', '', ''],\n",
       "       ['\\n', '', '', '', '', '', '', '', ''],\n",
       "       ['\\n', '', '', '', '', '', '', '', ''],\n",
       "       ['\\n', '', '', '', '', '', '', '', ''],\n",
       "       ['\\n', '', '', '', '', '', '', '', ''],\n",
       "       ['\\n', '', '', '', '', '', '', '', ''],\n",
       "       ['\\n', '', '', '', '', '', '', '', ''],\n",
       "       ['\\n', '', '', '', '', '', '', '', ''],\n",
       "       ['\\n', '', '', '', '', '', '', '', ''],\n",
       "       ['\\n', '', '', '', '', '', '', '', ''],\n",
       "       ['\\n', '', '', '', '', '', '', '', ''],\n",
       "       ['\\n', '', '', '', '', '', '', '', ''],\n",
       "       ['\\n', '', '', '', '', '', '', '', ''],\n",
       "       ['\\n', '', '', '', '', '', '', '', ''],\n",
       "       ['\\n', '', '', '', '', '', '', '', ''],\n",
       "       ['\\n', '', '', '', '', '', '', '', ''],\n",
       "       ['\\n', '', '', '', '', '', '', '', ''],\n",
       "       ['\\n', '', '', '', '', '', '', '', ''],\n",
       "       ['\\n', '', '', '', '', '', '', '', ''],\n",
       "       ['\\n', '', '', '', '', '', '', '', ''],\n",
       "       ['\\n', '', '', '', '', '', '', '', ''],\n",
       "       ['\\n', '', '', '', '', '', '', '', ''],\n",
       "       ['\\n', '', '', '', '', '', '', '', ''],\n",
       "       ['\\n', '', '', '', '', '', '', '', ''],\n",
       "       ['\\n', '', '', '', '', '', '', '', ''],\n",
       "       ['\\n', '', '', '', '', '', '', '', ''],\n",
       "       ['\\n', '', '', '', '', '', '', '', ''],\n",
       "       ['\\n', '', '', '', '', '', '', '', ''],\n",
       "       ['\\n', '', '', '', '', '', '', '', ''],\n",
       "       ['\\n', '', '', '', '', '', '', '', ''],\n",
       "       ['\\n', '', '', '', '', '', '', '', ''],\n",
       "       ['\\n', '', '', '', '', '', '', '', ''],\n",
       "       ['\\n', '', '', '', '', '', '', '', ''],\n",
       "       ['\\n', '', '', '', '', '', '', '', ''],\n",
       "       ['\\n', '', '', '', '', '', '', '', ''],\n",
       "       ['\\n', '', '', '', '', '', '', '', ''],\n",
       "       ['\\n', '', '', '', '', '', '', '', ''],\n",
       "       ['\\n', '', '', '', '', '', '', '', ''],\n",
       "       ['\\n', '', '', '', '', '', '', '', ''],\n",
       "       ['\\n', '', '', '', '', '', '', '', ''],\n",
       "       ['\\n', '', '', '', '', '', '', '', ''],\n",
       "       ['\\n', '', '', '', '', '', '', '', ''],\n",
       "       ['\\n', '', '', '', '', '', '', '', ''],\n",
       "       ['\\n', '', '', '', '', '', '', '', ''],\n",
       "       ['\\n', '', '', '', '', '', '', '', ''],\n",
       "       ['\\n', '', '', '', '', '', '', '', ''],\n",
       "       ['\\n', '', '', '', '', '', '', '', ''],\n",
       "       ['\\n', '', '', '', '', '', '', '', ''],\n",
       "       ['\\n', '', '', '', '', '', '', '', ''],\n",
       "       ['\\n', '', '', '', '', '', '', '', '']], dtype='<U1')"
      ]
     },
     "execution_count": 136,
     "metadata": {},
     "output_type": "execute_result"
    }
   ],
   "source": [
    "kpts = np.array([kp.text.split(\" \") for kp in bs.iter(\"ks_energies\")]);\n",
    "\n",
    "kpts"
   ]
  },
  {
   "cell_type": "code",
   "execution_count": 191,
   "id": "ec10500e",
   "metadata": {},
   "outputs": [],
   "source": [
    "kpoints= [(x.find(\"k_point\").text).split(\" \") for x in bs.iter(\"ks_energies\")]\n",
    "eigvals= [f.remove_empty((eigv.find(\"eigenvalues\").text.replace(\"\\n\",\"\")).split(\" \")) for eigv in bs.iter(\"ks_energies\")]\n",
    "eigvals=np.array(eigvals, dtype=float).T - EF;\n",
    "kpoints=np.array(kpoints, dtype=float);\n",
    "kpath = np.insert( np.cumsum( np.linalg.norm( np.diff( kpoints, axis=0 ), axis=1 ) ),0,0)\n"
   ]
  },
  {
   "cell_type": "code",
   "execution_count": 192,
   "id": "3d14feac",
   "metadata": {},
   "outputs": [
    {
     "data": {
      "text/plain": [
       "(-0.1, 0.0)"
      ]
     },
     "execution_count": 192,
     "metadata": {},
     "output_type": "execute_result"
    },
    {
     "data": {
      "image/png": "[encoded data removed]",
      "text/plain": [
       "<Figure size 432x288 with 1 Axes>"
      ]
     },
     "metadata": {
      "needs_background": "light"
     },
     "output_type": "display_data"
    }
   ],
   "source": [
    "import matplotlib.pyplot as plt\n",
    "for eig in eigvals:\n",
    "    plt.plot(kpath,eig)\n",
    "plt.ylim(-0.1,0,)"
   ]
  },
  {
   "cell_type": "code",
   "execution_count": 193,
   "id": "e2d0e8cb",
   "metadata": {},
   "outputs": [
    {
     "data": {
      "text/plain": [
       "-0.1369579675958046"
      ]
     },
     "execution_count": 193,
     "metadata": {},
     "output_type": "execute_result"
    }
   ],
   "source": [
    "EF"
   ]
  },
  {
   "cell_type": "code",
   "execution_count": 101,
   "id": "18b7b9e0",
   "metadata": {},
   "outputs": [
    {
     "name": "stdout",
     "output_type": "stream",
     "text": [
      "(80, 36)\n"
     ]
    }
   ],
   "source": [
    "\n",
    "eigvals = [ f.remove_empty(eigval.text.replace(\"\\n\",\"\").split(\" \")) for eigval in band_structure.iter(\"eigenvalues\") ]\n",
    "eigvals = np.array(eigvals, dtype=float );\n",
    "print(eigvals.shape)\n",
    "#eigenvals = [f.remove_double(\" \",eigval.text).split(\"\\n\") for eigval in band_structure.iter(\"eigenvalues\") ]\n",
    "#eigenvals = [f.remove_empty(eigenval) for eigval in band_structure.iter(\"eigenvalues\") ]\n",
    "\n",
    "#print( eigenvals  )\n",
    " #   #print( f.remove_double(\"\\n\",f.remove_double(\" \",eigval.text) ) )"
   ]
  },
  {
   "cell_type": "code",
   "execution_count": 102,
   "id": "105a541c",
   "metadata": {},
   "outputs": [
    {
     "data": {
      "text/plain": [
       "(160, 3)"
      ]
     },
     "execution_count": 102,
     "metadata": {},
     "output_type": "execute_result"
    }
   ],
   "source": [
    "kpts.shape"
   ]
  },
  {
   "cell_type": "code",
   "execution_count": null,
   "id": "1f75a3d4",
   "metadata": {},
   "outputs": [],
   "source": []
  }
 ],
 "metadata": {
  "kernelspec": {
   "display_name": "Python 3 (ipykernel)",
   "language": "python",
   "name": "python3"
  },
  "language_info": {
   "codemirror_mode": {
    "name": "ipython",
    "version": 3
   },
   "file_extension": ".py",
   "mimetype": "text/x-python",
   "name": "python",
   "nbconvert_exporter": "python",
   "pygments_lexer": "ipython3",
   "version": "3.8.12"
  }
 },
 "nbformat": 4,
 "nbformat_minor": 5
}
